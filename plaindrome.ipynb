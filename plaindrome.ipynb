{
  "nbformat": 4,
  "nbformat_minor": 0,
  "metadata": {
    "colab": {
      "provenance": []
    },
    "kernelspec": {
      "name": "python3",
      "display_name": "Python 3"
    },
    "language_info": {
      "name": "python"
    }
  },
  "cells": [
    {
      "cell_type": "code",
      "execution_count": null,
      "metadata": {
        "id": "8U1r-BBqZNMH"
      },
      "outputs": [],
      "source": [
        "def is_palindrome(s):\n",
        "\n",
        "  s = s.lower().replace(\" \", \"\")\n",
        "\n",
        "  return s == s[::-1]\n",
        "\n",
        "\n",
        "print(is_palindrome(\"racecar\"))\n",
        "print(is_palindrome(\"hello\"))\n",
        "print(is_palindrome(\"Madam, I'm Adam\"))"
      ]
    }
  ]
}